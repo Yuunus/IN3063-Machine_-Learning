{
  "nbformat": 4,
  "nbformat_minor": 0,
  "metadata": {
    "colab": {
      "name": "intro2pytorch.ipynb",
      "provenance": [],
      "collapsed_sections": []
    },
    "kernelspec": {
      "name": "python3",
      "display_name": "Python 3"
    }
  },
  "cells": [
    {
      "cell_type": "markdown",
      "metadata": {
        "id": "bJu1zPCLLuDp"
      },
      "source": [
        "Import the libraries that we will  use"
      ]
    },
    {
      "cell_type": "code",
      "metadata": {
        "id": "Nyd9eZSqDeqj"
      },
      "source": [
        "import numpy as np\r\n",
        "import torch\r\n",
        "import torchvision\r\n",
        "import matplotlib.pyplot as plt\r\n",
        "from time import time\r\n",
        "from torchvision import datasets, transforms\r\n",
        "from torch import nn, optim"
      ],
      "execution_count": 16,
      "outputs": []
    },
    {
      "cell_type": "markdown",
      "metadata": {
        "id": "czoJAtPHIU_O"
      },
      "source": [
        "Transform images to same size"
      ]
    },
    {
      "cell_type": "code",
      "metadata": {
        "id": "nP0Z_FKyIKzD"
      },
      "source": [
        "transform = transforms.Compose([transforms.ToTensor(),\r\n",
        "                              transforms.Normalize((0.5,), (0.5,)),\r\n",
        "                              ])"
      ],
      "execution_count": 17,
      "outputs": []
    },
    {
      "cell_type": "code",
      "metadata": {
        "id": "Vl7tDf8FILIz"
      },
      "source": [
        "trainset = datasets.MNIST(r'..\\input\\MNIST', download=True, train=True, transform=transform)\r\n",
        "trainloader = torch.utils.data.DataLoader(trainset, batch_size=64, shuffle=True)\r\n",
        "\r\n",
        "testset = datasets.MNIST(r'..\\input\\MNIST', download=True, train=False, transform=transform)\r\n",
        "testloader = torch.utils.data.DataLoader(testset, batch_size=64, shuffle=True)"
      ],
      "execution_count": 18,
      "outputs": []
    },
    {
      "cell_type": "code",
      "metadata": {
        "colab": {
          "base_uri": "https://localhost:8080/"
        },
        "id": "qvgkyxcwIes2",
        "outputId": "8c4d9811-0c9d-4b04-b293-481bb96965af"
      },
      "source": [
        "dataiter = iter(trainloader) # creating a iterator\r\n",
        "images, labels = dataiter.next() # creating images for image and lables for image number (0 to 9) \r\n",
        "\r\n",
        "print(images.shape)\r\n",
        "print(labels.shape)"
      ],
      "execution_count": 19,
      "outputs": [
        {
          "output_type": "stream",
          "text": [
            "torch.Size([64, 1, 28, 28])\n",
            "torch.Size([64])\n"
          ],
          "name": "stdout"
        }
      ]
    },
    {
      "cell_type": "code",
      "metadata": {
        "colab": {
          "base_uri": "https://localhost:8080/",
          "height": 265
        },
        "id": "ADbHLICqI09B",
        "outputId": "5bfb2570-909a-415a-ddef-ff592203c7d8"
      },
      "source": [
        "plt.imshow(images[5].numpy().squeeze(), cmap='gray_r');"
      ],
      "execution_count": 20,
      "outputs": [
        {
          "output_type": "display_data",
          "data": {
            "image/png": "[encoded data removed]",
            "text/plain": [
              "<Figure size 432x288 with 1 Axes>"
            ]
          },
          "metadata": {
            "tags": [],
            "needs_background": "light"
          }
        }
      ]
    },
    {
      "cell_type": "code",
      "metadata": {
        "colab": {
          "base_uri": "https://localhost:8080/"
        },
        "id": "BNs1C6QKI1VH",
        "outputId": "f2b87d25-62d8-4d12-a05f-ff9ef984fa64"
      },
      "source": [
        "# Model creation with neural net Sequential model\r\n",
        "model=nn.Sequential(nn.Linear(784,128), # 1 layer:- 784 input 128 o/p\r\n",
        "                    nn.ReLU(),          # Defining Regular linear unit as activation\r\n",
        "                    nn.Linear(128,64),  # 2 Layer:- 128 Input and 64 O/p\r\n",
        "                    nn.Tanh(),          # Defining Regular linear unit as activation\r\n",
        "                    nn.Linear(64,10),   # 3 Layer:- 64 Input and 10 O/P as (0-9)\r\n",
        "                    nn.LogSoftmax(dim=1) # Defining the log softmax to find the probablities for the last output unit\r\n",
        "                  ) \r\n",
        "\r\n",
        "print(model)"
      ],
      "execution_count": 21,
      "outputs": [
        {
          "output_type": "stream",
          "text": [
            "Sequential(\n",
            "  (0): Linear(in_features=784, out_features=128, bias=True)\n",
            "  (1): ReLU()\n",
            "  (2): Linear(in_features=128, out_features=64, bias=True)\n",
            "  (3): Tanh()\n",
            "  (4): Linear(in_features=64, out_features=10, bias=True)\n",
            "  (5): LogSoftmax(dim=1)\n",
            ")\n"
          ],
          "name": "stdout"
        }
      ]
    },
    {
      "cell_type": "code",
      "metadata": {
        "id": "iDb5aWX9Ie1O"
      },
      "source": [
        "# defining the negative log-likelihood loss for calculating loss\r\n",
        "criterion = nn.NLLLoss() "
      ],
      "execution_count": 22,
      "outputs": []
    },
    {
      "cell_type": "code",
      "metadata": {
        "id": "UAIo24-9Ie6M"
      },
      "source": [
        "images, labels = next(iter(trainloader))\r\n",
        "images = images.view(images.shape[0], -1)\r\n",
        "\r\n",
        "logps = model(images) #log probabilities\r\n",
        "loss = criterion(logps, labels) #calculate the NLL-loss"
      ],
      "execution_count": 23,
      "outputs": []
    },
    {
      "cell_type": "code",
      "metadata": {
        "colab": {
          "base_uri": "https://localhost:8080/"
        },
        "id": "PtLDJAghJa4D",
        "outputId": "0fcacece-b936-4d88-f0ef-fdd63bc57878"
      },
      "source": [
        "print('Before backward pass: \\n', model[0].weight.grad)\r\n",
        "loss.backward() # to calculate gradients of parameter \r\n",
        "print('After backward pass: \\n', model[0].weight.grad)"
      ],
      "execution_count": 24,
      "outputs": [
        {
          "output_type": "stream",
          "text": [
            "Before backward pass: \n",
            " None\n",
            "After backward pass: \n",
            " tensor([[-0.0044, -0.0044, -0.0044,  ..., -0.0044, -0.0044, -0.0044],\n",
            "        [-0.0003, -0.0003, -0.0003,  ..., -0.0003, -0.0003, -0.0003],\n",
            "        [ 0.0000,  0.0000,  0.0000,  ...,  0.0000,  0.0000,  0.0000],\n",
            "        ...,\n",
            "        [ 0.0000,  0.0000,  0.0000,  ...,  0.0000,  0.0000,  0.0000],\n",
            "        [ 0.0007,  0.0007,  0.0007,  ...,  0.0007,  0.0007,  0.0007],\n",
            "        [-0.0026, -0.0026, -0.0026,  ..., -0.0026, -0.0026, -0.0026]])\n"
          ],
          "name": "stdout"
        }
      ]
    },
    {
      "cell_type": "code",
      "metadata": {
        "colab": {
          "base_uri": "https://localhost:8080/"
        },
        "id": "d8wbYHefJa8n",
        "outputId": "41ddf171-40e5-4767-a1d5-d4ef1d752595"
      },
      "source": [
        "# defining the optimiser with stochastic gradient descent and default parameters\r\n",
        "optimizer = optim.SGD(model.parameters(), lr=0.01, momentum=0.9)\r\n",
        "\r\n",
        "print('Initial weights - ', model[0].weight)\r\n",
        "\r\n",
        "images, labels = next(iter(trainloader))\r\n",
        "images.resize_(64, 784)\r\n",
        "\r\n",
        "# Clear the gradients, do this because gradients are accumulated\r\n",
        "optimizer.zero_grad()\r\n",
        "\r\n",
        "# Forward pass\r\n",
        "output = model(images)\r\n",
        "loss = criterion(output, labels)\r\n",
        "# the backward pass and update weights\r\n",
        "loss.backward()\r\n",
        "print('Gradient -', model[0].weight.grad)"
      ],
      "execution_count": 25,
      "outputs": [
        {
          "output_type": "stream",
          "text": [
            "Initial weights -  Parameter containing:\n",
            "tensor([[-0.0340, -0.0104, -0.0306,  ..., -0.0128, -0.0208,  0.0045],\n",
            "        [ 0.0204, -0.0087, -0.0150,  ...,  0.0342,  0.0189,  0.0209],\n",
            "        [-0.0319,  0.0195, -0.0091,  ..., -0.0265, -0.0153,  0.0333],\n",
            "        ...,\n",
            "        [ 0.0225, -0.0332, -0.0085,  ..., -0.0042,  0.0178,  0.0223],\n",
            "        [-0.0129, -0.0062, -0.0103,  ..., -0.0035, -0.0353, -0.0164],\n",
            "        [ 0.0154, -0.0333, -0.0318,  ..., -0.0305, -0.0006, -0.0257]],\n",
            "       requires_grad=True)\n",
            "Gradient - tensor([[ 0.0019,  0.0019,  0.0019,  ...,  0.0019,  0.0019,  0.0019],\n",
            "        [-0.0008, -0.0008, -0.0008,  ..., -0.0008, -0.0008, -0.0008],\n",
            "        [ 0.0000,  0.0000,  0.0000,  ...,  0.0000,  0.0000,  0.0000],\n",
            "        ...,\n",
            "        [ 0.0000,  0.0000,  0.0000,  ...,  0.0000,  0.0000,  0.0000],\n",
            "        [-0.0015, -0.0015, -0.0015,  ..., -0.0015, -0.0015, -0.0015],\n",
            "        [-0.0021, -0.0021, -0.0021,  ..., -0.0021, -0.0021, -0.0021]])\n"
          ],
          "name": "stdout"
        }
      ]
    },
    {
      "cell_type": "code",
      "metadata": {
        "colab": {
          "base_uri": "https://localhost:8080/"
        },
        "id": "pvyOYxncJbAL",
        "outputId": "f642af08-3370-41bc-f36e-e8dd22ae4be3"
      },
      "source": [
        "time0 = time()\r\n",
        "epochs = 15 # total number of iteration for training\r\n",
        "running_loss_list= []\r\n",
        "epochs_list = []\r\n",
        "\r\n",
        "for e in range(epochs):\r\n",
        "    running_loss = 0\r\n",
        "    for images, labels in trainloader:\r\n",
        "        # Flatenning MNIST images with size [64,784]\r\n",
        "        images = images.view(images.shape[0], -1) \r\n",
        "    \r\n",
        "        # defining gradient in each epoch as 0\r\n",
        "        optimizer.zero_grad()\r\n",
        "        \r\n",
        "        # modeling for each image batch\r\n",
        "        output = model(images)\r\n",
        "        \r\n",
        "        # calculating the loss\r\n",
        "        loss = criterion(output, labels)\r\n",
        "        \r\n",
        "        # This is where the model learns by backpropagating\r\n",
        "        loss.backward()\r\n",
        "        \r\n",
        "        # And optimizes its weights here\r\n",
        "        optimizer.step()\r\n",
        "        \r\n",
        "        # calculating the loss\r\n",
        "        running_loss += loss.item()\r\n",
        "        \r\n",
        "    else:\r\n",
        "        print(\"Epoch {} - Training loss: {}\".format(e, running_loss/len(trainloader)))\r\n",
        "print(\"\\nTraining Time (in minutes) =\",(time()-time0)/60)"
      ],
      "execution_count": 26,
      "outputs": [
        {
          "output_type": "stream",
          "text": [
            "Epoch 0 - Training loss: 0.41845762318989105\n",
            "Epoch 1 - Training loss: 0.17543889603404794\n",
            "Epoch 2 - Training loss: 0.12863426118977925\n",
            "Epoch 3 - Training loss: 0.10165764263688104\n",
            "Epoch 4 - Training loss: 0.0840771863582546\n",
            "Epoch 5 - Training loss: 0.0723318711912601\n",
            "Epoch 6 - Training loss: 0.06433894395131244\n",
            "Epoch 7 - Training loss: 0.056032846718013826\n",
            "Epoch 8 - Training loss: 0.04972493586821486\n",
            "Epoch 9 - Training loss: 0.04468445632972125\n",
            "Epoch 10 - Training loss: 0.03915701295124557\n",
            "Epoch 11 - Training loss: 0.03365506702900749\n",
            "Epoch 12 - Training loss: 0.03171835527536886\n",
            "Epoch 13 - Training loss: 0.026937037673237713\n",
            "Epoch 14 - Training loss: 0.02575969563638007\n",
            "\n",
            "Training Time (in minutes) = 2.4917484005292256\n"
          ],
          "name": "stdout"
        }
      ]
    },
    {
      "cell_type": "code",
      "metadata": {
        "id": "SzOEO4KqJbEM"
      },
      "source": [
        "def classify(img, ps):\r\n",
        "    ''' \r\n",
        "    Function for viewing an image and it's predicted classes.\r\n",
        "    '''\r\n",
        "    ps = ps.data.numpy().squeeze()\r\n",
        "\r\n",
        "    fig, (ax1, ax2) = plt.subplots(figsize=(6,9), ncols=2)\r\n",
        "    ax1.imshow(img.resize_(1, 28, 28).numpy().squeeze())\r\n",
        "    ax1.axis('off')\r\n",
        "    ax2.barh(np.arange(10), ps)\r\n",
        "    ax2.set_aspect(0.1)\r\n",
        "    ax2.set_yticks(np.arange(10))\r\n",
        "    ax2.set_yticklabels(np.arange(10))\r\n",
        "    ax2.set_title('Class Probability')\r\n",
        "    ax2.set_xlim(0, 1.1)\r\n",
        "    plt.tight_layout()"
      ],
      "execution_count": 27,
      "outputs": []
    },
    {
      "cell_type": "code",
      "metadata": {
        "colab": {
          "base_uri": "https://localhost:8080/",
          "height": 271
        },
        "id": "NnwV-EQBJbI0",
        "outputId": "7e02e1c8-4b04-481f-bff4-001d7bf75530"
      },
      "source": [
        "images, labels = next(iter(testloader))\r\n",
        "# replace trainloader to check training accuracy.\r\n",
        "\r\n",
        "img = images[7].view(1, 784)\r\n",
        "# Turn off gradients to speed up this part\r\n",
        "with torch.no_grad():\r\n",
        "    logpb = model(img)\r\n",
        "\r\n",
        "# Output of the network are log-probabilities, need to take exponential for probabilities\r\n",
        "pb = torch.exp(logpb)\r\n",
        "probab = list(pb.numpy()[0])\r\n",
        "print(\"Predicted Digit =\", probab.index(max(probab)))\r\n",
        "classify(img.view(1, 28, 28), pb)"
      ],
      "execution_count": 28,
      "outputs": [
        {
          "output_type": "stream",
          "text": [
            "Predicted Digit = 8\n"
          ],
          "name": "stdout"
        },
        {
          "output_type": "display_data",
          "data": {
            "image/png": "[encoded data removed]",
            "text/plain": [
              "<Figure size 432x648 with 2 Axes>"
            ]
          },
          "metadata": {
            "tags": [],
            "needs_background": "light"
          }
        }
      ]
    },
    {
      "cell_type": "code",
      "metadata": {
        "colab": {
          "base_uri": "https://localhost:8080/"
        },
        "id": "r5LIpwzPILXy",
        "outputId": "5c92e3dc-34f3-4da9-c17b-b9997adbfba5"
      },
      "source": [
        "correct_count, all_count = 0, 0\r\n",
        "for images,labels in testloader:\r\n",
        "  for i in range(len(labels)):\r\n",
        "    img = images[i].view(1, 784)\r\n",
        "\r\n",
        "    with torch.no_grad():\r\n",
        "        logps = model(img)\r\n",
        "\r\n",
        "    ps = torch.exp(logps)\r\n",
        "    probab = list(ps.numpy()[0])\r\n",
        "    pred_label = probab.index(max(probab))\r\n",
        "    true_label = labels.numpy()[i]\r\n",
        "    if(true_label == pred_label):\r\n",
        "      correct_count += 1\r\n",
        "    all_count += 1\r\n",
        "\r\n",
        "print(\"Number Of Images Tested =\", all_count)\r\n",
        "print(\"\\nModel Accuracy =\", (correct_count/all_count))"
      ],
      "execution_count": 29,
      "outputs": [
        {
          "output_type": "stream",
          "text": [
            "Number Of Images Tested = 10000\n",
            "\n",
            "Model Accuracy = 0.9732\n"
          ],
          "name": "stdout"
        }
      ]
    }
  ]
}