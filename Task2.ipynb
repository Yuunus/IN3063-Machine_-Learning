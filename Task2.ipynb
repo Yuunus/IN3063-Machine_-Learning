{
  "nbformat": 4,
  "nbformat_minor": 0,
  "metadata": {
    "colab": {
      "name": "MnistMultilayerPerceptron.ipynb",
      "provenance": []
    },
    "kernelspec": {
      "name": "python3",
      "display_name": "Python 3"
    }
  },
  "cells": [
    {
      "cell_type": "markdown",
      "metadata": {
        "id": "XL6GKeameBp7"
      },
      "source": [
        "Import the libraries that we will  use"
      ]
    },
    {
      "cell_type": "code",
      "metadata": {
        "id": "3mGGRHGPAH_R"
      },
      "source": [
        "import keras\r\n",
        "import matplotlib.pyplot as plt\r\n",
        "%matplotlib inline\r\n",
        "import numpy as np\r\n",
        "from __future__ import print_function\r\n",
        "from tqdm import trange"
      ],
      "execution_count": null,
      "outputs": []
    },
    {
      "cell_type": "code",
      "metadata": {
        "id": "CW4HCX5VAQ0F"
      },
      "source": [
        "#function to load the dataset and divide it o the train and test datasets\r\n",
        "def load_dataset(flatten=False):\r\n",
        "    (X_train, y_train), (X_test, y_test) = keras.datasets.mnist.load_data()\r\n",
        "\r\n",
        "    # normalize x\r\n",
        "    X_train = X_train.astype(float) / 255.\r\n",
        "    X_test = X_test.astype(float) / 255.\r\n",
        "\r\n",
        "    # we reserve the last 10000 training examples for validation\r\n",
        "    X_train, X_val = X_train[:-10000], X_train[-10000:]\r\n",
        "    y_train, y_val = y_train[:-10000], y_train[-10000:]\r\n",
        "\r\n",
        "    if flatten:\r\n",
        "        X_train = X_train.reshape([X_train.shape[0], -1])\r\n",
        "        X_val = X_val.reshape([X_val.shape[0], -1])\r\n",
        "        X_test = X_test.reshape([X_test.shape[0], -1])\r\n",
        "        #print(\"flattening\")\r\n",
        "\r\n",
        "    return X_train, y_train, X_val, y_val, X_test, y_test\r\n",
        "\r\n",
        "#call the load dataset fuction above\r\n",
        "X_train, y_train, X_val, y_val, X_test, y_test = load_dataset(flatten=True)\r\n"
      ],
      "execution_count": null,
      "outputs": []
    },
    {
      "cell_type": "code",
      "metadata": {
        "id": "ex62_ZCPAms6"
      },
      "source": [
        " ## For numerical python\r\n",
        "np.random.seed(42)"
      ],
      "execution_count": null,
      "outputs": []
    },
    {
      "cell_type": "markdown",
      "metadata": {
        "id": "CgWih-pCfnwP"
      },
      "source": [
        "The class layer below abtsracts the layers and  has the following functions:\r\n",
        "\r\n",
        "\r\n",
        "*   Process input to get output\r\n",
        "*   Backpropagate gradients\r\n",
        "*   List item\r\n",
        "*   List item\r\n",
        "\r\n",
        "\r\n",
        "\r\n",
        "\r\n"
      ]
    },
    {
      "cell_type": "code",
      "metadata": {
        "id": "v8HG-rsWAmxk"
      },
      "source": [
        "class Layer:\r\n",
        "    \r\n",
        "    def __init__(self):\r\n",
        "        # A dummy layer does nothing\r\n",
        "        pass\r\n",
        "    \r\n",
        "    def forward(self, input):\r\n",
        "        # Rturn input as output\r\n",
        "        return input\r\n",
        "\r\n",
        "    def backward(self, input, grad_output):\r\n",
        "        \"\"\"\r\n",
        "        Performs a backpropagation step through the layer, with respect to the given input.\r\n",
        "\r\n",
        "        Back propagation works by computing the gradient of the loss function with respect to each rule\r\n",
        "        \r\n",
        "        To compute loss gradients w.r.t input, we need to apply chain rule (backprop):\r\n",
        "        \r\n",
        "        d loss / d x  = (d loss / d layer) * (d layer / d x)\r\n",
        "        \r\n",
        "        Luckily, we already receive d loss / d layer as input, so you only need to multiply it by d layer / d x.\r\n",
        "        \r\n",
        "        If our layer has parameters (e.g. dense layer), we also need to update them here using d loss / d layer\r\n",
        "        \"\"\"\r\n",
        "        num_units = input.shape[1]\r\n",
        "                \r\n",
        "        d_layer_d_input = np.eye(num_units)\r\n",
        "        \r\n",
        "        return np.dot(grad_output, d_layer_d_input) # chain rule"
      ],
      "execution_count": null,
      "outputs": []
    },
    {
      "cell_type": "markdown",
      "metadata": {
        "id": "P_IR6aRQiAb3"
      },
      "source": [
        "The rectified linear activation function (ReLU) is a calculation that will output the input directly if it is positive, otherwise, it will output zero.\r\n"
      ]
    },
    {
      "cell_type": "code",
      "metadata": {
        "id": "oqc-wJO3As19"
      },
      "source": [
        "\r\n",
        "class ReLU(Layer):\r\n",
        "    def __init__(self):\r\n",
        "        #This applies elementwise rectified linear unit to all inputs\r\n",
        "        pass\r\n",
        "    \r\n",
        "    def forward(self, input):\r\n",
        "        \"\"\"Apply elementwise ReLU to [batch, input_units] matrix\"\"\"\r\n",
        "        relu_forward = np.maximum(0,input)\r\n",
        "        return relu_forward\r\n",
        "    \r\n",
        "    def backward(self, input, grad_output):\r\n",
        "        \"\"\"Compute gradient of loss with regards to ReLU input\"\"\"\r\n",
        "        relu_grad = input > 0\r\n",
        "        return grad_output*relu_grad"
      ],
      "execution_count": null,
      "outputs": []
    },
    {
      "cell_type": "markdown",
      "metadata": {
        "id": "AbMKx-TNiW6O"
      },
      "source": [
        " A dense layer is a layer which performs a learned affine transformation:\r\n",
        "        f(x) = <W*x> + b\r\n",
        "\r\n",
        "The forward function performs an affine transformation:\r\n",
        "        f(x) = <W*x> + b\r\n",
        "        \r\n",
        "    "
      ]
    },
    {
      "cell_type": "code",
      "metadata": {
        "id": "KfZd2v7MAs57"
      },
      "source": [
        "class Dense(Layer):\r\n",
        "    def __init__(self, input_units, output_units, learning_rate=0.1):\r\n",
        "        \r\n",
        "        self.learning_rate = learning_rate\r\n",
        "        self.weights = np.random.normal(loc=0.0, \r\n",
        "                                        scale = np.sqrt(2/(input_units+output_units)), \r\n",
        "                                        size = (input_units,output_units))\r\n",
        "        self.biases = np.zeros(output_units)\r\n",
        "        \r\n",
        "    def forward(self,input):\r\n",
        "    \r\n",
        "        return np.dot(input,self.weights) + self.biases\r\n",
        "    \r\n",
        "    def backward(self,input,grad_output):\r\n",
        "        # compute d f / d x = d f / d dense * d dense / d x\r\n",
        "        # where d dense/ d x = weights transposed\r\n",
        "        grad_input = np.dot(grad_output, self.weights.T)\r\n",
        "        \r\n",
        "        # compute gradient with weights and biases\r\n",
        "        grad_weights = np.dot(input.T, grad_output)\r\n",
        "        grad_biases = grad_output.mean(axis=0)*input.shape[0]\r\n",
        "        \r\n",
        "        assert grad_weights.shape == self.weights.shape and grad_biases.shape == self.biases.shape\r\n",
        "        \r\n",
        "        # Here we perform a stochastic gradient descent step. \r\n",
        "        self.weights = self.weights - self.learning_rate * grad_weights\r\n",
        "        self.biases = self.biases - self.learning_rate * grad_biases\r\n",
        "        \r\n",
        "        return grad_input"
      ],
      "execution_count": null,
      "outputs": []
    },
    {
      "cell_type": "markdown",
      "metadata": {
        "id": "mhK9SCjbi2-x"
      },
      "source": [
        "Cross entropy loss isthe loss function for a multi-class classification problem. "
      ]
    },
    {
      "cell_type": "code",
      "metadata": {
        "id": "UYikEndkAs97"
      },
      "source": [
        "def softmax_crossentropy_with_logits(logits,reference_answers):\r\n",
        "    \"\"\"Compute crossentropy from logits[batch,n_classes] and ids of correct answers\"\"\"\r\n",
        "    logits_for_answers = logits[np.arange(len(logits)),reference_answers]\r\n",
        "    \r\n",
        "    xentropy = - logits_for_answers + np.log(np.sum(np.exp(logits),axis=-1))\r\n",
        "    \r\n",
        "    return xentropy\r\n",
        "\r\n",
        "def grad_softmax_crossentropy_with_logits(logits,reference_answers):\r\n",
        "    \"\"\"Compute crossentropy gradient from logits[batch,n_classes] and ids of correct answers\"\"\"\r\n",
        "    ones_for_answers = np.zeros_like(logits)\r\n",
        "    ones_for_answers[np.arange(len(logits)),reference_answers] = 1\r\n",
        "    \r\n",
        "    softmax = np.exp(logits) / np.exp(logits).sum(axis=-1,keepdims=True)\r\n",
        "    \r\n",
        "    return (- ones_for_answers + softmax) / logits.shape[0]"
      ],
      "execution_count": null,
      "outputs": []
    },
    {
      "cell_type": "code",
      "metadata": {
        "id": "6tUcBqdiAtIe"
      },
      "source": [
        "\r\n",
        "network = []\r\n",
        "network.append(Dense(X_train.shape[1],100))\r\n",
        "network.append(ReLU())\r\n",
        "network.append(Dense(100,200))\r\n",
        "network.append(ReLU())\r\n",
        "network.append(Dense(200,10))"
      ],
      "execution_count": null,
      "outputs": []
    },
    {
      "cell_type": "code",
      "metadata": {
        "id": "C8ztPpj3AtMZ"
      },
      "source": [
        "def forward(network, X):\r\n",
        "    \"\"\"\r\n",
        "    Compute activations of all network layers by applying them sequentially.\r\n",
        "    Return a list of activations for each layer. \r\n",
        "    \"\"\"\r\n",
        "    activations = []\r\n",
        "    input = X\r\n",
        "\r\n",
        "    # Looping through each layer\r\n",
        "    for l in network:\r\n",
        "        activations.append(l.forward(input))\r\n",
        "        # Updating input to last layer output\r\n",
        "        input = activations[-1]\r\n",
        "    \r\n",
        "    assert len(activations) == len(network)\r\n",
        "    return activations\r\n",
        "\r\n",
        "def predict(network,X):\r\n",
        "    \"\"\"\r\n",
        "    Compute network predictions. Returning indices of largest Logit probability\r\n",
        "    \"\"\"\r\n",
        "    logits = forward(network,X)[-1]\r\n",
        "    return logits.argmax(axis=-1)\r\n",
        "\r\n",
        "def train(network,X,y):\r\n",
        "    \"\"\"\r\n",
        "    Train our network on a given batch of X and y.\r\n",
        "    We first need to run forward to get all layer activations.\r\n",
        "    Then we can run layer.backward going from last to first layer.\r\n",
        "    After we have called backward for all layers, all Dense layers have already made one gradient step.\r\n",
        "    \"\"\"\r\n",
        "    \r\n",
        "    # Get the layer activations\r\n",
        "    layer_activations = forward(network,X)\r\n",
        "    layer_inputs = [X]+layer_activations  #layer_input[i] is an input for network[i]\r\n",
        "    logits = layer_activations[-1]\r\n",
        "    \r\n",
        "    # Compute the loss and the initial gradient\r\n",
        "    loss = softmax_crossentropy_with_logits(logits,y)\r\n",
        "    loss_grad = grad_softmax_crossentropy_with_logits(logits,y)\r\n",
        "    \r\n",
        "    # Propagate gradients through the network\r\n",
        "    # Reverse propogation as this is backprop\r\n",
        "    for layer_index in range(len(network))[::-1]:\r\n",
        "        layer = network[layer_index]\r\n",
        "        \r\n",
        "        loss_grad = layer.backward(layer_inputs[layer_index],loss_grad) #grad w.r.t. input, also weight updates\r\n",
        "        \r\n",
        "    return np.mean(loss)"
      ],
      "execution_count": null,
      "outputs": []
    },
    {
      "cell_type": "code",
      "metadata": {
        "id": "LRKehvSfBFbL"
      },
      "source": [
        "def iterate_minibatches(inputs, targets, batchsize, shuffle=False):\r\n",
        "    assert len(inputs) == len(targets)\r\n",
        "    if shuffle:\r\n",
        "        indices = np.random.permutation(len(inputs))\r\n",
        "    for start_idx in trange(0, len(inputs) - batchsize + 1, batchsize):\r\n",
        "        if shuffle:\r\n",
        "            excerpt = indices[start_idx:start_idx + batchsize]\r\n",
        "        else:\r\n",
        "            excerpt = slice(start_idx, start_idx + batchsize)\r\n",
        "        yield inputs[excerpt], targets[excerpt]\r\n",
        "\r\n"
      ],
      "execution_count": null,
      "outputs": []
    },
    {
      "cell_type": "code",
      "metadata": {
        "id": "EMabQIJ_BFfM"
      },
      "source": [
        "from IPython.display import clear_output\r\n",
        "train_log = []\r\n",
        "val_log = []"
      ],
      "execution_count": null,
      "outputs": []
    },
    {
      "cell_type": "code",
      "metadata": {
        "colab": {
          "base_uri": "https://localhost:8080/",
          "height": 321
        },
        "id": "ZXsNvbGaBFkD",
        "outputId": "98268787-faaf-422b-e7fb-2320438caa66"
      },
      "source": [
        "for epoch in range(15):\r\n",
        "\r\n",
        "    for x_batch,y_batch in iterate_minibatches(X_train,y_train,batchsize=32,shuffle=True):\r\n",
        "        train(network,x_batch,y_batch)\r\n",
        "    \r\n",
        "    train_log.append(np.mean(predict(network,X_train)==y_train))\r\n",
        "    val_log.append(np.mean(predict(network,X_val)==y_val))\r\n",
        "    \r\n",
        "    clear_output()\r\n",
        "    print(\"Epoch\",epoch)\r\n",
        "    print(\"Train accuracy:\",train_log[-1])\r\n",
        "    print(\"Val accuracy:\",val_log[-1])\r\n",
        "    plt.plot(train_log,label='train accuracy')\r\n",
        "    plt.plot(val_log,label='val accuracy')\r\n",
        "    plt.legend(loc='best')\r\n",
        "    plt.grid()\r\n",
        "    plt.show()\r\n",
        "\r\n"
      ],
      "execution_count": null,
      "outputs": [
        {
          "output_type": "stream",
          "text": [
            "Epoch 14\n",
            "Train accuracy: 0.99916\n",
            "Val accuracy: 0.9774\n"
          ],
          "name": "stdout"
        },
        {
          "output_type": "display_data",
          "data": {
            "image/png": "[encoded data removed]",
            "text/plain": [
              "<Figure size 432x288 with 1 Axes>"
            ]
          },
          "metadata": {
            "tags": [],
            "needs_background": "light"
          }
        }
      ]
    },
    {
      "cell_type": "code",
      "metadata": {
        "id": "7Muu2fNcBFpr"
      },
      "source": [
        ""
      ],
      "execution_count": null,
      "outputs": []
    }
  ]
}